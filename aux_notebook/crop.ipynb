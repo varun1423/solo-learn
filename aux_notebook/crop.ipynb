{
 "metadata": {
  "language_info": {
   "codemirror_mode": {
    "name": "ipython",
    "version": 3
   },
   "file_extension": ".py",
   "mimetype": "text/x-python",
   "name": "python",
   "nbconvert_exporter": "python",
   "pygments_lexer": "ipython3",
   "version": "3.7.7-final"
  },
  "orig_nbformat": 2,
  "kernelspec": {
   "name": "python3",
   "display_name": "Python 3",
   "language": "python"
  }
 },
 "nbformat": 4,
 "nbformat_minor": 2,
 "cells": [
  {
   "cell_type": "code",
   "execution_count": 1,
   "metadata": {},
   "outputs": [],
   "source": [
    "from PIL import Image\n",
    "import numpy as np\n",
    "import pandas as pd\n",
    "from pathlib import Path\n",
    "import os"
   ]
  },
  {
   "cell_type": "code",
   "execution_count": 11,
   "metadata": {},
   "outputs": [],
   "source": [
    "def encoding(row):\n",
    "    if row == '074':\n",
    "        z = 0\n",
    "    elif row == '104':\n",
    "        z =  1\n",
    "    elif row == '267':\n",
    "        z = 2\n",
    "    elif row== '269':\n",
    "        z = 3\n",
    "    elif row== '271':\n",
    "        z = 4\n",
    "    elif row== '274':\n",
    "        z = 5\n",
    "    elif row== '276':\n",
    "        z = 6\n",
    "    elif row== '280':\n",
    "        z = 7\n",
    "    elif row== '282':\n",
    "        z = 8\n",
    "    elif row== '284':\n",
    "        z = 9\n",
    "    else:\n",
    "        print(n)\n",
    "        print(type(n))\n",
    "        print(n, file_name)\n",
    "    return str(z)"
   ]
  },
  {
   "cell_type": "code",
   "execution_count": 2,
   "metadata": {},
   "outputs": [],
   "source": [
    "path = 'D:/TUD/TU_Dresden/WiSe_2021/Thesis_FZJ/datasets/data_public_leaderboard_phase/train.csv'\n",
    "train_image_path = 'D:\\TUD\\TU_Dresden\\WiSe_2021\\Data\\data_public_leaderboard_phase/train/'\n",
    "data_train_csv = pd.read_csv(path)\n",
    "data_train_csv['Image_name'] = data_train_csv['Image_ID']+ '.tif'"
   ]
  },
  {
   "cell_type": "code",
   "execution_count": 3,
   "metadata": {},
   "outputs": [],
   "source": [
    "res = list()\n",
    "res_1 = list()\n",
    "\n",
    "for i in range(0, len(data_train_csv)):\n",
    "    image = Image.open(Path(train_image_path)/Path(data_train_csv['Image_name'][i]))\n",
    "    array_of_image = np.asarray(image)\n",
    "    res.append(array_of_image.shape[0])\n",
    "data_train_csv['resolution_v'] = res\n",
    "data_train_csv = data_train_csv.sort_values(by=['resolution_v']).reset_index(drop=True)\n"
   ]
  },
  {
   "cell_type": "code",
   "execution_count": 4,
   "metadata": {},
   "outputs": [
    {
     "output_type": "execute_result",
     "data": {
      "text/plain": [
       "  Image_ID  Magnification    Sample  Lifetime  Uncertainty  Image_name  \\\n",
       "0   JSC306           2000  M-19-267       135           21  JSC306.tif   \n",
       "1   JSC130           2000  M-19-282        55           64  JSC130.tif   \n",
       "2   JSC298            500  M-19-267       135           21  JSC298.tif   \n",
       "3   JSC304            500  M-19-267       135           21  JSC304.tif   \n",
       "4   JSC294            500  M-19-267       135           21  JSC294.tif   \n",
       "\n",
       "   resolution_v  \n",
       "0           712  \n",
       "1           712  \n",
       "2           712  \n",
       "3           712  \n",
       "4           712  "
      ],
      "text/html": "<div>\n<style scoped>\n    .dataframe tbody tr th:only-of-type {\n        vertical-align: middle;\n    }\n\n    .dataframe tbody tr th {\n        vertical-align: top;\n    }\n\n    .dataframe thead th {\n        text-align: right;\n    }\n</style>\n<table border=\"1\" class=\"dataframe\">\n  <thead>\n    <tr style=\"text-align: right;\">\n      <th></th>\n      <th>Image_ID</th>\n      <th>Magnification</th>\n      <th>Sample</th>\n      <th>Lifetime</th>\n      <th>Uncertainty</th>\n      <th>Image_name</th>\n      <th>resolution_v</th>\n    </tr>\n  </thead>\n  <tbody>\n    <tr>\n      <th>0</th>\n      <td>JSC306</td>\n      <td>2000</td>\n      <td>M-19-267</td>\n      <td>135</td>\n      <td>21</td>\n      <td>JSC306.tif</td>\n      <td>712</td>\n    </tr>\n    <tr>\n      <th>1</th>\n      <td>JSC130</td>\n      <td>2000</td>\n      <td>M-19-282</td>\n      <td>55</td>\n      <td>64</td>\n      <td>JSC130.tif</td>\n      <td>712</td>\n    </tr>\n    <tr>\n      <th>2</th>\n      <td>JSC298</td>\n      <td>500</td>\n      <td>M-19-267</td>\n      <td>135</td>\n      <td>21</td>\n      <td>JSC298.tif</td>\n      <td>712</td>\n    </tr>\n    <tr>\n      <th>3</th>\n      <td>JSC304</td>\n      <td>500</td>\n      <td>M-19-267</td>\n      <td>135</td>\n      <td>21</td>\n      <td>JSC304.tif</td>\n      <td>712</td>\n    </tr>\n    <tr>\n      <th>4</th>\n      <td>JSC294</td>\n      <td>500</td>\n      <td>M-19-267</td>\n      <td>135</td>\n      <td>21</td>\n      <td>JSC294.tif</td>\n      <td>712</td>\n    </tr>\n  </tbody>\n</table>\n</div>"
     },
     "metadata": {},
     "execution_count": 4
    }
   ],
   "source": [
    "data_train_csv.head()"
   ]
  },
  {
   "cell_type": "code",
   "execution_count": 13,
   "metadata": {},
   "outputs": [
    {
     "output_type": "stream",
     "name": "stdout",
     "text": [
      "0\n",
      "infolder\n",
      "50\n",
      "infolder\n",
      "100\n",
      "infolder\n",
      "150\n",
      "infolder\n",
      "200\n",
      "infolder\n",
      "Done\n"
     ]
    }
   ],
   "source": [
    "root = 'D:/TUD/TU_Dresden/WiSe_2021/Data/train/'\n",
    "\n",
    "for img in range(0, len(data_train_csv)):\n",
    "    if img%50 ==0:\n",
    "        print(img)\n",
    "    image = Image.open(Path(train_image_path)/Path(data_train_csv['Image_name'][img]))\n",
    "    array_of_image = np.asarray(image)\n",
    "    crop_list = dict()\n",
    "    cropsize = 256\n",
    "    ##if resolution is 712x1024\n",
    "    if (data_train_csv['resolution_v'][img] == 712):\n",
    "    ## will return crop if 12 sub-images\n",
    "        for i in range(0,3):\n",
    "            for j in range(0,4):\n",
    "                if (i>=2):\n",
    "                    crop = array_of_image[456:712,(cropsize*j):(cropsize*(j+1))]\n",
    "                else:\n",
    "                    crop = array_of_image[i*cropsize:(cropsize+(cropsize*i)),(cropsize*j):(cropsize*(j+1))]\n",
    "                crop_list.update({f'{i}{j}':Image.fromarray(crop)})\n",
    "    else: # if resolution is 2048x2048\n",
    "    ## will return crop if 64 sub-images\n",
    "        for i in range(0,8):\n",
    "            for j in range(0,8):\n",
    "                if (i==0 and j==0):\n",
    "                    crop = array_of_image[0:cropsize,0:cropsize]\n",
    "                else:\n",
    "                    crop = array_of_image[i*cropsize:(cropsize+(cropsize*i)),(cropsize*j):(cropsize*(j+1))]\n",
    "                crop_list.update({f'{i}{j}':Image.fromarray(crop)})\n",
    "    # confirm if sample directory exist. else create           \n",
    "    # if not os.path.exists(Path(root)/Path(data_train_csv['Sample'][img][-3:])):\n",
    "    #     os.mkdir(root +data_train_csv['Sample'][img][-3:])\n",
    "    # else:\n",
    "    #     print(f'{271}: exist')\n",
    "\n",
    "    # image_dir = root + data_train_csv['Sample'][img][-3:] +'/'\n",
    "\n",
    "    # for index,image_patch in enumerate(crop_list):\n",
    "    #     crop_list[image_patch].save(image_dir + data_train_csv['Image_ID'][img] +'_' + image_patch + '_' + data_train_csv['Sample'][img][-3:]+'_' + str(data_train_csv['resolution_v'][img]) + '_'+ str(data_train_csv['Magnification'][img]) +'_'+ '.tif')\n",
    "    if img%50 ==0:\n",
    "        print('infolder')       \n",
    "    for index,image_patch in enumerate(crop_list):\n",
    "        crop_list[image_patch].save('D:/TUD/TU_Dresden/WiSe_2021/Thesis_FZJ/data_trial/' + data_train_csv['Image_ID'][img] +'_' + image_patch + '_' + encoding(data_train_csv['Sample'][img][-3:])+'_' + str(data_train_csv['resolution_v'][img]) + '_'+ str(data_train_csv['Magnification'][img]) +'_'+ '.tif')\n",
    "print('Done')"
   ]
  },
  {
   "cell_type": "code",
   "execution_count": null,
   "metadata": {},
   "outputs": [],
   "source": [
    "import matplotlib.pyplot as plt\n",
    "fig, ax = plt.subplots(nrows=8, ncols=8, sharex=True, sharey=True,figsize = (70,50))\n",
    "for i in range(0,8):\n",
    "    for j in range(0,8):\n",
    "        ax[i,j].imshow(crop_list[f'{i}{j}'], cmap='gray')\n",
    "#plt.subplots_adjust(wspace=0, hspace=0)\n",
    "plt.show()"
   ]
  }
 ]
}