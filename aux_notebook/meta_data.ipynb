{
 "metadata": {
  "language_info": {
   "codemirror_mode": {
    "name": "ipython",
    "version": 3
   },
   "file_extension": ".py",
   "mimetype": "text/x-python",
   "name": "python",
   "nbconvert_exporter": "python",
   "pygments_lexer": "ipython3",
   "version": "3.7.7-final"
  },
  "orig_nbformat": 2,
  "kernelspec": {
   "name": "python3",
   "display_name": "Python 3",
   "language": "python"
  }
 },
 "nbformat": 4,
 "nbformat_minor": 2,
 "cells": [
  {
   "cell_type": "code",
   "execution_count": 32,
   "metadata": {},
   "outputs": [],
   "source": [
    "import torch\n",
    "import torchvision\n",
    "from PIL import Image, ImageFilter, ImageOps\n",
    "from torch.utils.data import DataLoader\n",
    "from torch.utils.data.dataset import Dataset\n",
    "from torchvision import transforms\n",
    "from torchvision.datasets import STL10, ImageFolder\n",
    "import pandas as pd\n",
    "from pathlib import Path\n",
    "import numpy as np"
   ]
  },
  {
   "cell_type": "code",
   "execution_count": 33,
   "metadata": {},
   "outputs": [],
   "source": [
    "def encoding(data_frame):\n",
    "    encoding = list()\n",
    "    for index, row in data_frame.iterrows():\n",
    "            if row[1] == '074':\n",
    "                z = 0\n",
    "            elif row[1] == '104':\n",
    "                z =  1\n",
    "            elif row[1] == '267':\n",
    "                z = 2\n",
    "            elif row[1]== '269':\n",
    "                z = 3\n",
    "            elif row[1]== '271':\n",
    "                z = 4\n",
    "            elif row[1]== '274':\n",
    "                z = 5\n",
    "            elif row[1]== '276':\n",
    "                z = 6\n",
    "            elif row[1]== '280':\n",
    "                z = 7\n",
    "            elif row[1]== '282':\n",
    "                z = 8\n",
    "            elif row[1]== '284':\n",
    "                z = 9\n",
    "            else:\n",
    "                print(n)\n",
    "                print(type(n))\n",
    "                print(n, file_name)\n",
    "            encoding.append(z)\n",
    "    return encoding"
   ]
  },
  {
   "source": [
    "data = pd.read_csv('D:\\TUD\\TU_Dresden\\WiSe_2021\\Thesis_FZJ/all_images.txt')\n",
    "data['sample_name']         = data['Image_Name'].str.split('_').str[2]\n",
    "data['loaction_in_img']     = data['Image_Name'].str.split('_').str[1]\n",
    "data['original_img_name']   = data['Image_Name'].str.split('_').str[0]\n",
    "data['resolution_v_of_orignal_image']        = data['Image_Name'].str.split('_').str[3]\n",
    "data['resolution_h_of_orignal_image'] = data['Image_Name'].str.split('_').str[3]\n",
    "data['magnification']= data['Image_Name'].str.split('_').str[4]\n",
    "data['encoding'] = encoding(data_frame = data)\n"
   ],
   "cell_type": "code",
   "metadata": {},
   "execution_count": 34,
   "outputs": []
  },
  {
   "cell_type": "code",
   "execution_count": 35,
   "metadata": {},
   "outputs": [
    {
     "output_type": "execute_result",
     "data": {
      "text/plain": [
       "                     Image_Name sample_name loaction_in_img original_img_name  \\\n",
       "0  JSC100_00_271_2048_500_.tif          271              00            JSC100   \n",
       "1  JSC100_01_271_2048_500_.tif          271              01            JSC100   \n",
       "2  JSC100_02_271_2048_500_.tif          271              02            JSC100   \n",
       "3  JSC100_03_271_2048_500_.tif          271              03            JSC100   \n",
       "4  JSC100_04_271_2048_500_.tif          271              04            JSC100   \n",
       "\n",
       "  resolution_v_of_orignal_image resolution_h_of_orignal_image magnification  \\\n",
       "0                          2048                          2048           500   \n",
       "1                          2048                          2048           500   \n",
       "2                          2048                          2048           500   \n",
       "3                          2048                          2048           500   \n",
       "4                          2048                          2048           500   \n",
       "\n",
       "   encoding  \n",
       "0         4  \n",
       "1         4  \n",
       "2         4  \n",
       "3         4  \n",
       "4         4  "
      ],
      "text/html": "<div>\n<style scoped>\n    .dataframe tbody tr th:only-of-type {\n        vertical-align: middle;\n    }\n\n    .dataframe tbody tr th {\n        vertical-align: top;\n    }\n\n    .dataframe thead th {\n        text-align: right;\n    }\n</style>\n<table border=\"1\" class=\"dataframe\">\n  <thead>\n    <tr style=\"text-align: right;\">\n      <th></th>\n      <th>Image_Name</th>\n      <th>sample_name</th>\n      <th>loaction_in_img</th>\n      <th>original_img_name</th>\n      <th>resolution_v_of_orignal_image</th>\n      <th>resolution_h_of_orignal_image</th>\n      <th>magnification</th>\n      <th>encoding</th>\n    </tr>\n  </thead>\n  <tbody>\n    <tr>\n      <th>0</th>\n      <td>JSC100_00_271_2048_500_.tif</td>\n      <td>271</td>\n      <td>00</td>\n      <td>JSC100</td>\n      <td>2048</td>\n      <td>2048</td>\n      <td>500</td>\n      <td>4</td>\n    </tr>\n    <tr>\n      <th>1</th>\n      <td>JSC100_01_271_2048_500_.tif</td>\n      <td>271</td>\n      <td>01</td>\n      <td>JSC100</td>\n      <td>2048</td>\n      <td>2048</td>\n      <td>500</td>\n      <td>4</td>\n    </tr>\n    <tr>\n      <th>2</th>\n      <td>JSC100_02_271_2048_500_.tif</td>\n      <td>271</td>\n      <td>02</td>\n      <td>JSC100</td>\n      <td>2048</td>\n      <td>2048</td>\n      <td>500</td>\n      <td>4</td>\n    </tr>\n    <tr>\n      <th>3</th>\n      <td>JSC100_03_271_2048_500_.tif</td>\n      <td>271</td>\n      <td>03</td>\n      <td>JSC100</td>\n      <td>2048</td>\n      <td>2048</td>\n      <td>500</td>\n      <td>4</td>\n    </tr>\n    <tr>\n      <th>4</th>\n      <td>JSC100_04_271_2048_500_.tif</td>\n      <td>271</td>\n      <td>04</td>\n      <td>JSC100</td>\n      <td>2048</td>\n      <td>2048</td>\n      <td>500</td>\n      <td>4</td>\n    </tr>\n  </tbody>\n</table>\n</div>"
     },
     "metadata": {},
     "execution_count": 35
    }
   ],
   "source": [
    "data.head()"
   ]
  },
  {
   "cell_type": "code",
   "execution_count": 36,
   "metadata": {},
   "outputs": [],
   "source": [
    "data.to_csv('D:/TUD/TU_Dresden/WiSe_2021/Thesis_FZJ/meta_data.csv', index=False)"
   ]
  }
 ]
}