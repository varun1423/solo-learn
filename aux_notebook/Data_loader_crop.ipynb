{
 "metadata": {
  "language_info": {
   "codemirror_mode": {
    "name": "ipython",
    "version": 3
   },
   "file_extension": ".py",
   "mimetype": "text/x-python",
   "name": "python",
   "nbconvert_exporter": "python",
   "pygments_lexer": "ipython3",
   "version": "3.7.7-final"
  },
  "orig_nbformat": 2,
  "kernelspec": {
   "name": "python3",
   "display_name": "Python 3.7.7 64-bit",
   "metadata": {
    "interpreter": {
     "hash": "f744fe6f2719b3888fef47857be378108051e5590210f380c70d40a1bbe27ebd"
    }
   }
  }
 },
 "nbformat": 4,
 "nbformat_minor": 2,
 "cells": [
  {
   "cell_type": "code",
   "execution_count": 100,
   "metadata": {},
   "outputs": [],
   "source": [
    "import torch\n",
    "import torchvision\n",
    "from PIL import Image, ImageFilter, ImageOps\n",
    "from torch.utils.data import DataLoader\n",
    "from torch.utils.data.dataset import Dataset\n",
    "from torchvision import transforms\n",
    "from torchvision.datasets import STL10, ImageFolder\n",
    "import pandas as pd\n",
    "from pathlib import Path"
   ]
  },
  {
   "cell_type": "code",
   "execution_count": 101,
   "metadata": {},
   "outputs": [],
   "source": [
    "data = pd.read_csv('D:\\TUD\\TU_Dresden\\WiSe_2021\\Thesis_FZJ/name_text_file.txt')\n",
    "data['sample_name']         = data['Image_Name'].str.split('_').str[2]\n",
    "data['loaction_in_img']     = data['Image_Name'].str.split('_').str[1]\n",
    "data['original_img_name']   = data['Image_Name'].str.split('_').str[0]\n",
    "data['resolution_v']        = data['Image_Name'].str.split('_').str[3]\n",
    "data['resolution_h']        = data['Image_Name'].str.split('_').str[3]\n",
    "data['magnification']       = data['Image_Name'].str.split('_').str[4]\n",
    "data.to_csv('D:/TUD/TU_Dresden/WiSe_2021/Thesis_FZJ/meta_data.csv', index=False)"
   ]
  },
  {
   "cell_type": "code",
   "execution_count": null,
   "metadata": {},
   "outputs": [],
   "source": [
    "class ThermalBarrierCoating(Dataset):\n",
    "    def __init__(self, train_dir, transform=None):\n",
    "        self.data_csv = pd.read_csv(train_dir / Path('train.csv')) \n",
    "        self.label= self.data_csv['Lifetime']\n",
    "        self.image_ID = self.data_csv['Image_ID']\n",
    "        self.transform = transform\n",
    "\n",
    "\n",
    "    def __getitem__(self, index):\n",
    "        y_label = self.label[index]\n",
    "        image = Image.open(os.path.join(train_dir, 'train',self.image_ID[index]) +'.tif')\n",
    "        if self.transform is not None:\n",
    "            image = self.transform(image)\n",
    "        return image, -1\n",
    "\n",
    "    def __len__(self):\n",
    "        return self.data_csv['Lifetime'].shape[0]"
   ]
  }
 ]
}